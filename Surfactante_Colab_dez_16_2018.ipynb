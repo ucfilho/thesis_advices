{
  "nbformat": 4,
  "nbformat_minor": 0,
  "metadata": {
    "colab": {
      "name": "Surfactante_Colab_dez_16_2018.ipynb",
      "version": "0.3.2",
      "provenance": [],
      "collapsed_sections": [],
      "include_colab_link": true
    },
    "kernelspec": {
      "name": "python3",
      "display_name": "Python 3"
    }
  },
  "cells": [
    {
      "cell_type": "markdown",
      "metadata": {
        "id": "view-in-github",
        "colab_type": "text"
      },
      "source": [
        "<a href=\"https://colab.research.google.com/github/ucfilho/thesis_advices/blob/master/Surfactante_Colab_dez_16_2018.ipynb\" target=\"_parent\"><img src=\"https://colab.research.google.com/assets/colab-badge.svg\" alt=\"Open In Colab\"/></a>"
      ]
    },
    {
      "metadata": {
        "id": "A0BQVGX5JOmx",
        "colab_type": "code",
        "colab": {
          "base_uri": "https://localhost:8080/",
          "height": 54
        },
        "outputId": "e361e227-a1f1-4ed7-a9d3-cdb024cd36ee"
      },
      "cell_type": "code",
      "source": [
        "\n",
        "# este comando clona o diretorio github ucfilho/ANN no colaboratory research\n",
        "!git clone https://github.com/ucfilho/thesis_advices\n",
        "%cd thesis_advices"
      ],
      "execution_count": 1,
      "outputs": [
        {
          "output_type": "stream",
          "text": [
            "fatal: destination path 'thesis_advices' already exists and is not an empty directory.\n",
            "/content/thesis_advices\n"
          ],
          "name": "stdout"
        }
      ]
    },
    {
      "metadata": {
        "id": "q9_2YcSEKZy-",
        "colab_type": "code",
        "colab": {}
      },
      "cell_type": "code",
      "source": [
        "#%matplotlib inline"
      ],
      "execution_count": 0,
      "outputs": []
    },
    {
      "metadata": {
        "id": "7pucuZi5JJeM",
        "colab_type": "code",
        "colab": {
          "base_uri": "https://localhost:8080/",
          "height": 135
        },
        "outputId": "061cef6b-2d4f-42c5-b6e7-f8a8bcc0cc1c"
      },
      "cell_type": "code",
      "source": [
        "%run Colab_surfactante_ann_dez_16_2018.py"
      ],
      "execution_count": 3,
      "outputs": [
        {
          "output_type": "error",
          "ename": "SyntaxError",
          "evalue": "ignored",
          "traceback": [
            "\u001b[0;36m  File \u001b[0;32m\"/content/thesis_advices/Colab_surfactante_ann_dez_16_2018.py\"\u001b[0;36m, line \u001b[0;32m11\u001b[0m\n\u001b[0;31m    %matplotlib inline\u001b[0m\n\u001b[0m    ^\u001b[0m\n\u001b[0;31mSyntaxError\u001b[0m\u001b[0;31m:\u001b[0m invalid syntax\n"
          ]
        }
      ]
    },
    {
      "metadata": {
        "id": "X1oNbyzKJolD",
        "colab_type": "code",
        "colab": {
          "base_uri": "https://localhost:8080/",
          "height": 72
        },
        "outputId": "8b9dd72f-3831-4c98-9478-7dd73b7a6608"
      },
      "cell_type": "code",
      "source": [
        "!ls\n"
      ],
      "execution_count": 4,
      "outputs": [
        {
          "output_type": "stream",
          "text": [
            "Colab_surfactante_ann_dez_16_2018.py  README.md\n",
            "PSO_main_dez_12_2018.ipynb\t      Surfactante_ANN_dez_16_2018.ipynb\n",
            "PSO_routines_dez_12_2018.zip\n"
          ],
          "name": "stdout"
        }
      ]
    }
  ]
}