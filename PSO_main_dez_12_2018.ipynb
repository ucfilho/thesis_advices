{
  "nbformat": 4,
  "nbformat_minor": 0,
  "metadata": {
    "colab": {
      "name": "PSO_main_dez_06_2018.ipynb",
      "version": "0.3.2",
      "provenance": [],
      "collapsed_sections": [],
      "include_colab_link": true
    },
    "kernelspec": {
      "name": "python3",
      "display_name": "Python 3"
    }
  },
  "cells": [
    {
      "cell_type": "markdown",
      "metadata": {
        "id": "view-in-github",
        "colab_type": "text"
      },
      "source": [
        "<a href=\"https://colab.research.google.com/github/ucfilho/thesis_advices/blob/master/PSO_main_dez_12_2018.ipynb\" target=\"_parent\"><img src=\"https://colab.research.google.com/assets/colab-badge.svg\" alt=\"Open In Colab\"/></a>"
      ]
    },
    {
      "metadata": {
        "id": "7Yo-MeQYXs0P",
        "colab_type": "code",
        "colab": {}
      },
      "cell_type": "code",
      "source": [
        "import zipfile\n",
        "import os"
      ],
      "execution_count": 0,
      "outputs": []
    },
    {
      "metadata": {
        "id": "7g0DqgDeG8Bd",
        "colab_type": "code",
        "outputId": "17222d3c-3cd1-43e4-e1e2-919b6a8aad3d",
        "colab": {
          "base_uri": "https://localhost:8080/",
          "height": 161
        }
      },
      "cell_type": "code",
      "source": [
        "\n",
        "#Clona a pasta do github\n",
        "!git clone https://github.com/ucfilho/thesis_advices\n",
        "%cd thesis_advices\n",
        "!ls"
      ],
      "execution_count": 30,
      "outputs": [
        {
          "output_type": "stream",
          "text": [
            "Cloning into 'thesis_advices'...\n",
            "remote: Enumerating objects: 36, done.\u001b[K\n",
            "remote: Counting objects:   2% (1/36)   \u001b[K\rremote: Counting objects:   5% (2/36)   \u001b[K\rremote: Counting objects:   8% (3/36)   \u001b[K\rremote: Counting objects:  11% (4/36)   \u001b[K\rremote: Counting objects:  13% (5/36)   \u001b[K\rremote: Counting objects:  16% (6/36)   \u001b[K\rremote: Counting objects:  19% (7/36)   \u001b[K\rremote: Counting objects:  22% (8/36)   \u001b[K\rremote: Counting objects:  25% (9/36)   \u001b[K\rremote: Counting objects:  27% (10/36)   \u001b[K\rremote: Counting objects:  30% (11/36)   \u001b[K\rremote: Counting objects:  33% (12/36)   \u001b[K\rremote: Counting objects:  36% (13/36)   \u001b[K\rremote: Counting objects:  38% (14/36)   \u001b[K\rremote: Counting objects:  41% (15/36)   \u001b[K\rremote: Counting objects:  44% (16/36)   \u001b[K\rremote: Counting objects:  47% (17/36)   \u001b[K\rremote: Counting objects:  50% (18/36)   \u001b[K\rremote: Counting objects:  52% (19/36)   \u001b[K\rremote: Counting objects:  55% (20/36)   \u001b[K\rremote: Counting objects:  58% (21/36)   \u001b[K\rremote: Counting objects:  61% (22/36)   \u001b[K\rremote: Counting objects:  63% (23/36)   \u001b[K\rremote: Counting objects:  66% (24/36)   \u001b[K\rremote: Counting objects:  69% (25/36)   \u001b[K\rremote: Counting objects:  72% (26/36)   \u001b[K\rremote: Counting objects:  75% (27/36)   \u001b[K\rremote: Counting objects:  77% (28/36)   \u001b[K\rremote: Counting objects:  80% (29/36)   \u001b[K\rremote: Counting objects:  83% (30/36)   \u001b[K\rremote: Counting objects:  86% (31/36)   \u001b[K\rremote: Counting objects:  88% (32/36)   \u001b[K\rremote: Counting objects:  91% (33/36)   \u001b[K\rremote: Counting objects:  94% (34/36)   \u001b[K\rremote: Counting objects:  97% (35/36)   \u001b[K\rremote: Counting objects: 100% (36/36)   \u001b[K\rremote: Counting objects: 100% (36/36), done.\u001b[K\n",
            "remote: Compressing objects:   2% (1/34)   \u001b[K\rremote: Compressing objects:   5% (2/34)   \u001b[K\rremote: Compressing objects:   8% (3/34)   \u001b[K\rremote: Compressing objects:  11% (4/34)   \u001b[K\rremote: Compressing objects:  14% (5/34)   \u001b[K\rremote: Compressing objects:  17% (6/34)   \u001b[K\rremote: Compressing objects:  20% (7/34)   \u001b[K\rremote: Compressing objects:  23% (8/34)   \u001b[K\rremote: Compressing objects:  26% (9/34)   \u001b[K\rremote: Compressing objects:  29% (10/34)   \u001b[K\rremote: Compressing objects:  32% (11/34)   \u001b[K\rremote: Compressing objects:  35% (12/34)   \u001b[K\rremote: Compressing objects:  38% (13/34)   \u001b[K\rremote: Compressing objects:  41% (14/34)   \u001b[K\rremote: Compressing objects:  44% (15/34)   \u001b[K\rremote: Compressing objects:  47% (16/34)   \u001b[K\rremote: Compressing objects:  50% (17/34)   \u001b[K\rremote: Compressing objects:  52% (18/34)   \u001b[K\rremote: Compressing objects:  55% (19/34)   \u001b[K\rremote: Compressing objects:  58% (20/34)   \u001b[K\rremote: Compressing objects:  61% (21/34)   \u001b[K\rremote: Compressing objects:  64% (22/34)   \u001b[K\rremote: Compressing objects:  67% (23/34)   \u001b[K\rremote: Compressing objects:  70% (24/34)   \u001b[K\rremote: Compressing objects:  73% (25/34)   \u001b[K\rremote: Compressing objects:  76% (26/34)   \u001b[K\rremote: Compressing objects:  79% (27/34)   \u001b[K\rremote: Compressing objects:  82% (28/34)   \u001b[K\rremote: Compressing objects:  85% (29/34)   \u001b[K\rremote: Compressing objects:  88% (30/34)   \u001b[K\rremote: Compressing objects:  91% (31/34)   \u001b[K\rremote: Compressing objects:  94% (32/34)   \u001b[K\rremote: Compressing objects:  97% (33/34)   \u001b[K\rremote: Compressing objects: 100% (34/34)   \u001b[K\rremote: Compressing objects: 100% (34/34), done.\u001b[K\n",
            "remote: Total 36 (delta 10), reused 0 (delta 0), pack-reused 0\u001b[K\n",
            "Unpacking objects:   2% (1/36)   \rUnpacking objects:   5% (2/36)   \rUnpacking objects:   8% (3/36)   \rUnpacking objects:  11% (4/36)   \rUnpacking objects:  13% (5/36)   \rUnpacking objects:  16% (6/36)   \rUnpacking objects:  19% (7/36)   \rUnpacking objects:  22% (8/36)   \rUnpacking objects:  25% (9/36)   \rUnpacking objects:  27% (10/36)   \rUnpacking objects:  30% (11/36)   \rUnpacking objects:  33% (12/36)   \rUnpacking objects:  36% (13/36)   \rUnpacking objects:  38% (14/36)   \rUnpacking objects:  41% (15/36)   \rUnpacking objects:  44% (16/36)   \rUnpacking objects:  47% (17/36)   \rUnpacking objects:  50% (18/36)   \rUnpacking objects:  52% (19/36)   \rUnpacking objects:  55% (20/36)   \rUnpacking objects:  58% (21/36)   \rUnpacking objects:  61% (22/36)   \rUnpacking objects:  63% (23/36)   \rUnpacking objects:  66% (24/36)   \rUnpacking objects:  69% (25/36)   \rUnpacking objects:  72% (26/36)   \rUnpacking objects:  75% (27/36)   \rUnpacking objects:  77% (28/36)   \rUnpacking objects:  80% (29/36)   \rUnpacking objects:  83% (30/36)   \rUnpacking objects:  86% (31/36)   \rUnpacking objects:  88% (32/36)   \rUnpacking objects:  91% (33/36)   \rUnpacking objects:  94% (34/36)   \rUnpacking objects:  97% (35/36)   \rUnpacking objects: 100% (36/36)   \rUnpacking objects: 100% (36/36), done.\n",
            "/content/thesis_advices/thesis_advices\n",
            "PSO_routines_dez_12_2018.zip  README.md\n"
          ],
          "name": "stdout"
        }
      ]
    },
    {
      "metadata": {
        "id": "O-PEDI5qW3V2",
        "colab_type": "code",
        "colab": {
          "base_uri": "https://localhost:8080/",
          "height": 35
        },
        "outputId": "5ddb09b2-334a-482b-c2f8-964575f3df7b"
      },
      "cell_type": "code",
      "source": [
        "!ls"
      ],
      "execution_count": 31,
      "outputs": [
        {
          "output_type": "stream",
          "text": [
            "PSO_routines_dez_12_2018.zip  README.md\n"
          ],
          "name": "stdout"
        }
      ]
    },
    {
      "metadata": {
        "id": "HoHThPRGYWV_",
        "colab_type": "code",
        "colab": {}
      },
      "cell_type": "code",
      "source": [
        "import glob\n",
        "file_dir = \"/content\" # Enter Directory of all files\n",
        "data_path = os.path.join(file_dir,'*g')\n",
        "files = glob.glob(data_path)\n",
        "data = []\n",
        "for f1 in files:\n",
        "    import f1\n",
        "    data.append(f1)"
      ],
      "execution_count": 0,
      "outputs": []
    },
    {
      "metadata": {
        "id": "tqR6FCNnXEEL",
        "colab_type": "code",
        "colab": {}
      },
      "cell_type": "code",
      "source": [
        "FILE=\"PSO_routines_dez_12_2018.zip\"\n",
        "file_name = zipfile.ZipFile(FILE, 'r')\n",
        "file_name.extractall() \n"
      ],
      "execution_count": 0,
      "outputs": []
    },
    {
      "metadata": {
        "id": "LYPkQ_muZ-A3",
        "colab_type": "code",
        "colab": {
          "base_uri": "https://localhost:8080/",
          "height": 53
        },
        "outputId": "97d0bb0c-54f5-40a9-b4ff-60604c6e6b60"
      },
      "cell_type": "code",
      "source": [
        "!ls"
      ],
      "execution_count": 34,
      "outputs": [
        {
          "output_type": "stream",
          "text": [
            "ENX.py\t FUN.py    PAR.py   PSOnew.py\t\t\t  README.md\n",
            "FOBJ.py  GBEST.py  PART.py  PSO_routines_dez_12_2018.zip  VEL.py\n"
          ],
          "name": "stdout"
        }
      ]
    },
    {
      "metadata": {
        "id": "X4_VyCWaXZQS",
        "colab_type": "code",
        "colab": {}
      },
      "cell_type": "code",
      "source": [
        "import numpy as np\n",
        "import ENX\n",
        "import FUN\n",
        "import PAR\n",
        "import PSOnew\n",
        "import FOBJ\n",
        "import GBEST\n",
        "import PART\n",
        "import VEL\n"
      ],
      "execution_count": 0,
      "outputs": []
    },
    {
      "metadata": {
        "id": "U_fDgh--JUTK",
        "colab_type": "code",
        "colab": {
          "base_uri": "https://localhost:8080/",
          "height": 215
        },
        "outputId": "376f3581-d2af-47db-b622-7ba2ab68f49b"
      },
      "cell_type": "code",
      "source": [
        "\"\"\"\n",
        "Created on Wed Dec 12 2018\n",
        "@author: ucfilho\n",
        "\"\"\"\n",
        "\n",
        "\n",
        "W=0.75\n",
        "C1=2\n",
        "C2=2\n",
        "NPAR=100 #PARTICULAS\n",
        "ITE=100 #ITERACOES\n",
        "PAR=2 #NUM DE PARAMETROS A SER OTIMIZADOS\n",
        "MAX=[5,5] # MAXIMO DE CADA PARAMETRO\n",
        "MIN=[-4,-4] # MINIMO DE CADA PARAMETRO\n",
        "\n",
        "#resp=PSOnew.PSO(W,C1,C2,NPAR,ITE,PAR,MAX,MIN)\n",
        "resp,best=PSOnew.PSO(W,C1,C2,NPAR,ITE,PAR,MAX,MIN)\n",
        "\n",
        "for i in range(ITE):\n",
        "    if((i+1)%10==0):\n",
        "        print(\"iteracao=\",i+1,\"f obj=\",resp[i])\n",
        "print(best)\n"
      ],
      "execution_count": 36,
      "outputs": [
        {
          "output_type": "stream",
          "text": [
            "iteracao= 10 f obj= 0.2791629903360233\n",
            "iteracao= 20 f obj= 0.001976273341120711\n",
            "iteracao= 30 f obj= 0.0014981902732021605\n",
            "iteracao= 40 f obj= 0.0005940410785790533\n",
            "iteracao= 50 f obj= 0.0003660093771091892\n",
            "iteracao= 60 f obj= 0.0002111412770170338\n",
            "iteracao= 70 f obj= 4.896169161082339e-05\n",
            "iteracao= 80 f obj= 7.06465426439711e-06\n",
            "iteracao= 90 f obj= 6.206109329147578e-07\n",
            "iteracao= 100 f obj= 3.76618802970743e-07\n",
            "[0.9993865936263386, 0.9987754381499463]\n"
          ],
          "name": "stdout"
        }
      ]
    }
  ]
}