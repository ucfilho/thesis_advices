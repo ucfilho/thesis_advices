{
  "nbformat": 4,
  "nbformat_minor": 0,
  "metadata": {
    "colab": {
      "name": "Untitled17.ipynb",
      "version": "0.3.2",
      "provenance": [],
      "include_colab_link": true
    },
    "kernelspec": {
      "name": "python3",
      "display_name": "Python 3"
    }
  },
  "cells": [
    {
      "cell_type": "markdown",
      "metadata": {
        "id": "view-in-github",
        "colab_type": "text"
      },
      "source": [
        "<a href=\"https://colab.research.google.com/github/ucfilho/thesis_advices/blob/master/Dot_PY_ex_dez_18_2018.ipynb\" target=\"_parent\"><img src=\"https://colab.research.google.com/assets/colab-badge.svg\" alt=\"Open In Colab\"/></a>"
      ]
    },
    {
      "metadata": {
        "id": "6c-LAc4c5hdJ",
        "colab_type": "code",
        "colab": {
          "base_uri": "https://localhost:8080/",
          "height": 53
        },
        "outputId": "e0fc5cb8-4bdd-4d96-a6af-c0c3566254fc"
      },
      "cell_type": "code",
      "source": [
        "!git clone https://github.com/ucfilho/thesis_advices\n",
        "%cd thesis_advices\n",
        "import zipfile\n",
        "file_name = zipfile.ZipFile('Dot_PY_ex_dez_18_2018.zip', 'r')\n",
        "file_name.extractall()\n",
        "#import PSO_MAIN.py\n",
        "#%run PSO_MAIN.py"
      ],
      "execution_count": 1,
      "outputs": [
        {
          "output_type": "stream",
          "text": [
            "fatal: destination path 'thesis_advices' already exists and is not an empty directory.\n",
            "/content/thesis_advices\n"
          ],
          "name": "stdout"
        }
      ]
    },
    {
      "metadata": {
        "id": "cWK14r7ICtGy",
        "colab_type": "code",
        "colab": {
          "base_uri": "https://localhost:8080/",
          "height": 179
        },
        "outputId": "3312540f-3813-456d-a58f-31ed1dbdb2f5"
      },
      "cell_type": "code",
      "source": [
        "!ls\n"
      ],
      "execution_count": 2,
      "outputs": [
        {
          "output_type": "stream",
          "text": [
            "Colab_surfactante_ann_dez_16_2018.ipynb  PART.py\n",
            "Colab_surfactante_ann_dez_16_2018.zip\t PSO_main_dez_12_2018.ipynb\n",
            "Dot_PY_ex_dez_18_2018.zip\t\t PSO_MAIN.py\n",
            "ENX.py\t\t\t\t\t PSOnew.py\n",
            "FOBJ.py\t\t\t\t\t PSO_routines_dez_12_2018.zip\n",
            "FSORT.py\t\t\t\t README.md\n",
            "GBEST.py\t\t\t\t thesis_advices\n",
            "M_FO.py\t\t\t\t\t VEL.py\n",
            "M_Function.py\n"
          ],
          "name": "stdout"
        }
      ]
    },
    {
      "metadata": {
        "id": "HWb3WKmIQjQS",
        "colab_type": "code",
        "colab": {
          "base_uri": "https://localhost:8080/",
          "height": 133
        },
        "outputId": "acd05815-32be-481a-8717-7c4d549b5206"
      },
      "cell_type": "code",
      "source": [
        "%run PSO_MAIN.py"
      ],
      "execution_count": 3,
      "outputs": [
        {
          "output_type": "error",
          "ename": "SyntaxError",
          "evalue": "ignored",
          "traceback": [
            "\u001b[0;36m  File \u001b[0;32m\"/content/thesis_advices/PSO_MAIN.py\"\u001b[0;36m, line \u001b[0;32m7\u001b[0m\n\u001b[0;31m    <!DOCTYPE html>\u001b[0m\n\u001b[0m    ^\u001b[0m\n\u001b[0;31mSyntaxError\u001b[0m\u001b[0;31m:\u001b[0m invalid syntax\n"
          ]
        }
      ]
    }
  ]
}