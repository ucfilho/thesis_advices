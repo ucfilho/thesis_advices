{
  "nbformat": 4,
  "nbformat_minor": 0,
  "metadata": {
    "colab": {
      "name": "Untitled17.ipynb",
      "version": "0.3.2",
      "provenance": [],
      "include_colab_link": true
    },
    "kernelspec": {
      "name": "python3",
      "display_name": "Python 3"
    }
  },
  "cells": [
    {
      "cell_type": "markdown",
      "metadata": {
        "id": "view-in-github",
        "colab_type": "text"
      },
      "source": [
        "<a href=\"https://colab.research.google.com/github/ucfilho/thesis_advices/blob/master/Colab_surfactante_ann_dez_16_2018.ipynb\" target=\"_parent\"><img src=\"https://colab.research.google.com/assets/colab-badge.svg\" alt=\"Open In Colab\"/></a>"
      ]
    },
    {
      "metadata": {
        "id": "6c-LAc4c5hdJ",
        "colab_type": "code",
        "colab": {}
      },
      "cell_type": "code",
      "source": [
        "!git clone https://github.com/ucfilho/thesis_advices\n",
        "%cd thesis_advices\n",
        "import zipfile\n",
        "file_name = zipfile.ZipFile('Colab_surfactante_ann_dez_16_2018.zip', 'r')\n",
        "file_name.extractall()\n",
        "%run Colab_surfactante_ann_dez_16_2018.py"
      ],
      "execution_count": 0,
      "outputs": []
    }
  ]
}